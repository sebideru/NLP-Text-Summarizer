{
 "cells": [
  {
   "cell_type": "code",
   "execution_count": 3,
   "metadata": {},
   "outputs": [],
   "source": [
    "import os\n"
   ]
  },
  {
   "cell_type": "code",
   "execution_count": 1,
   "metadata": {},
   "outputs": [
    {
     "data": {
      "text/plain": [
       "'c:\\\\Users\\\\16676\\\\NLP-Text-Summarizer\\\\research'"
      ]
     },
     "execution_count": 1,
     "metadata": {},
     "output_type": "execute_result"
    }
   ],
   "source": [
    "%pwd"
   ]
  },
  {
   "cell_type": "code",
   "execution_count": 4,
   "metadata": {},
   "outputs": [],
   "source": [
    "os.chdir(\"../\")\n"
   ]
  },
  {
   "cell_type": "code",
   "execution_count": 5,
   "metadata": {},
   "outputs": [
    {
     "data": {
      "text/plain": [
       "'c:\\\\Users\\\\16676\\\\NLP-Text-Summarizer'"
      ]
     },
     "execution_count": 5,
     "metadata": {},
     "output_type": "execute_result"
    }
   ],
   "source": [
    "%pwd"
   ]
  },
  {
   "cell_type": "code",
   "execution_count": 322,
   "metadata": {},
   "outputs": [],
   "source": [
    "from dataclasses import dataclass\n",
    "from pathlib import Path\n",
    "\n",
    "@dataclass(frozen=True)\n",
    "class DataIngestionConfig:\n",
    "    root_dir: Path\n",
    "    source_URL: str\n",
    "    local_data_file: Path\n",
    "    unzip_dir: Path\n",
    "\n",
    "    "
   ]
  },
  {
   "cell_type": "code",
   "execution_count": 363,
   "metadata": {},
   "outputs": [],
   "source": [
    "from src.textSummarizer.constants import *\n",
    "from src.textSummarizer.utils.common import read_yaml,create_directories\n",
    "from src.textSummarizer.entity import DataIngestionConfig\n",
    "\n"
   ]
  },
  {
   "cell_type": "code",
   "execution_count": 361,
   "metadata": {},
   "outputs": [],
   "source": [
    "# class ConfigurationManager:\n",
    "\n",
    "#     def __init__(self,\n",
    "#                  config_filepath= CONFIG_FILE_PATH,\n",
    "#                  params_filepath= PARAMS_FILE_PATH):\n",
    "        \n",
    "                 \n",
    "\n",
    "        \n",
    "#         self.config= read_yaml(config_filepath)\n",
    "#         self.params= read_yaml(params_filepath)\n",
    "\n",
    "\n",
    "#         create_directories([self.config.artifacts_root])\n",
    "\n",
    "#     def get_data_ingestion_config(self)->DataIngestionConfig:\n",
    "            \n",
    "#             config=self.config.data_ingestio\n",
    "\n",
    "#             create_directories([config.root_dir])\n",
    "\n",
    "#             data_ingestion_config=DataIngestionConfig(\n",
    "#                             root_dir=config.root_dir,\n",
    "#                             source_URL=config.source_URL,\n",
    "#                             local_data_file_path=config.local_data_file,\n",
    "#                             unzip_dir=config.unzip_dir\n",
    "#             )\n",
    "#             return data_ingestion_config\n",
    "\n",
    "\n",
    "    \n",
    "        "
   ]
  },
  {
   "cell_type": "code",
   "execution_count": 346,
   "metadata": {},
   "outputs": [],
   "source": [
    "import os\n",
    "import urllib.request as request\n",
    "import zipfile\n",
    "from src.textSummarizer.logging import logger\n",
    "from src.textSummarizer.utils.common import get_size"
   ]
  },
  {
   "cell_type": "code",
   "execution_count": 352,
   "metadata": {},
   "outputs": [],
   "source": [
    "class DataIngestion:\n",
    "    def __init__(self, config:DataIngestionConfig):\n",
    "        self.config = config\n",
    "\n",
    "    def download_file(self):\n",
    "        if not os.path.exists(self.config.local_data_file_path):\n",
    "            filename,headers=request.urlretrieve(\n",
    "                url=self.config.source_URL,\n",
    "                filename=self.config.local_data_file_path\n",
    "            )\n",
    "            logger.info(f\"{filename} downloaded! with following info:\\n{headers}\")\n",
    "        else:\n",
    "            logger.info(f\"File already exists of size:{get_size(Path(self.config.local_data_file))}\"\n",
    "                        )    \n",
    "            \n",
    "\n",
    "    def extract_zip_file(self):\n",
    "        \"\"\"\n",
    "\n",
    "        zip_file_path:str\n",
    "        Extracts the zip file into the data directory\n",
    "        function returns None\n",
    "        \"\"\"\n",
    "\n",
    "        unzip_path=self.config.unzip_dir\n",
    "        os.makedirs(unzip_path,exist_ok=True)\n",
    "        with zipfile.ZipFile(self.config.local_data_file, 'r') as zip_ref:\n",
    "            zip_ref.extractall(unzip_path)\n",
    "            "
   ]
  },
  {
   "cell_type": "code",
   "execution_count": 362,
   "metadata": {},
   "outputs": [],
   "source": [
    "# try:\n",
    "   \n",
    "#     # config= ConfigurationManager()\n",
    "#     # data_ingestion_config= config.get_data_ingestion_config()\n",
    "#     # data_ingestion= DataIngestion(data_ingestion_config)\n",
    "#     # data_ingestion.download_file()\n",
    "#     # data_ingestion.extract_zip_file()\n",
    "# except Exception as e:\n",
    "#     raise e    \n",
    "    "
   ]
  }
 ],
 "metadata": {
  "kernelspec": {
   "display_name": "textS",
   "language": "python",
   "name": "python3"
  },
  "language_info": {
   "codemirror_mode": {
    "name": "ipython",
    "version": 3
   },
   "file_extension": ".py",
   "mimetype": "text/x-python",
   "name": "python",
   "nbconvert_exporter": "python",
   "pygments_lexer": "ipython3",
   "version": "3.10.11"
  },
  "orig_nbformat": 4
 },
 "nbformat": 4,
 "nbformat_minor": 2
}
